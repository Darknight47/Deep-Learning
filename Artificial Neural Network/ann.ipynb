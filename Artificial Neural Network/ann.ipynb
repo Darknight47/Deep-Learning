{
 "cells": [
  {
   "cell_type": "markdown",
   "metadata": {},
   "source": [
    "# Artificial Neural Network"
   ]
  },
  {
   "cell_type": "markdown",
   "metadata": {},
   "source": [
    "## Main Task\n",
    "This data set contains details of a bank's customers and the target variable is a binary variable reflecting the fact whether the customer left the bank (closed his account) or he continues to be a customer.\n",
    "> Understand the correlation between independent variables and dependent variable. Predicting if a new customer of the bank will stay OR leave the bank (A binary classification task)."
   ]
  },
  {
   "cell_type": "markdown",
   "metadata": {},
   "source": [
    "## Data Understanding\n",
    "\n",
    "1.0. What is the domain area of the dataset?\n",
    "This dataset contains details of a bank's customers and the target variable is a binary variable reflecting the fact whether the customer left the bank (closed his account) or he continues to be a customer.\n",
    "\n",
    "2.0. Which data format?\n",
    "The dataset is in csv format!\n",
    "\n",
    "2.1. Do the files have headers or another file describing the data?\n",
    "The files does have headers that describes the data! Each column has a name that describes the data it contains!\n",
    "\n",
    "2.2. Are the data values separated by commas, semicolon, or tabs?\n",
    "The data values are separated by commas!\n",
    "Example: \n",
    "* *RowNumber,CustomerId,Surname,CreditScore,Geography,Gender,Age,Tenure,Balance,NumOfProducts,HasCrCard,IsActiveMember,EstimatedSalary,Exited*  \n",
    "* *1,15634602,Hargrave,619,France,Female,42,2,0,1,1,1,101348.88,1*\n",
    "\n",
    "3.0 How many features and how many observations does the dataset have?\n",
    "The dataset has:\n",
    "* 11 features or columns!\n",
    "* 691 observations or rows!\n",
    "\n",
    "4.0 Does it contain numerical features? How many?\n",
    "Yes it contains 8 numerical features!\n",
    "\n",
    "5.0. Does it contain categorical features? How many?\n",
    "Yes it contains 3 or(4) categorical features! (The target class has 1 or 0 values.)"
   ]
  },
  {
   "cell_type": "code",
   "execution_count": 1,
   "metadata": {},
   "outputs": [],
   "source": [
    "# Importing necessary libraries\n",
    "\n",
    "import pandas as pd\n",
    "import numpy as np\n",
    "import tensorflow as tf"
   ]
  },
  {
   "cell_type": "code",
   "execution_count": 3,
   "metadata": {},
   "outputs": [],
   "source": [
    "dataset = pd.read_csv(\"../dataset/Churn_Modelling.csv\")"
   ]
  }
 ],
 "metadata": {
  "kernelspec": {
   "display_name": "Python 3",
   "language": "python",
   "name": "python3"
  },
  "language_info": {
   "codemirror_mode": {
    "name": "ipython",
    "version": 3
   },
   "file_extension": ".py",
   "mimetype": "text/x-python",
   "name": "python",
   "nbconvert_exporter": "python",
   "pygments_lexer": "ipython3",
   "version": "3.12.2"
  }
 },
 "nbformat": 4,
 "nbformat_minor": 2
}
